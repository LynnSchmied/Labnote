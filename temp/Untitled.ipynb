{
 "cells": [
  {
   "cell_type": "code",
   "execution_count": 1,
   "metadata": {},
   "outputs": [
    {
     "data": {
      "text/plain": [
       "4"
      ]
     },
     "execution_count": 1,
     "metadata": {},
     "output_type": "execute_result"
    }
   ],
   "source": [
    "2 + 2"
   ]
  },
  {
   "cell_type": "markdown",
   "metadata": {},
   "source": [
    "Lab Note\n",
    "========\n",
    "\n",
    "Laboratory notebook of lab 404, Department of Molecular biophysics, Bogomoletz Institute of Physiology.\n",
    "\n",
    "Property of I, A & B.\n",
    "\n",
    "\n",
    "## Structure of lab notes\n",
    "In this notebook using Markdown markup for text notes and CSV sheets format for storing reagents compositions. I recommend that you store all updates in reagents and protocols folders in `master` branch and personal project records in separate branch (e.g. `researcher_name` branch). And separate branches require independent repositories in local machine. \n",
    "\n",
    "\n",
    "There are three main directories:\n",
    " 1. Projects\n",
    " 2. Protocols\n",
    " 3. Reagents\n"
   ]
  },
  {
   "cell_type": "markdown",
   "metadata": {},
   "source": [
    "\n",
    "\n",
    "## Projects\n",
    "Contain individual directories for each project.\n",
    "Each project folders must have unique tag and year in name and contain head file with detail description of project and individual folders for daily notes and results files.\n",
    "\n",
    "## Protocols\n",
    "Descriptions of standard protocols for laboratory manipulations. Presence of detailed protocol will simplify writing of future work notes (just insert reference to standard protocol).\n",
    "\n",
    "## Reagents\n",
    "Composition of solutions and reagents.\n",
    "Data storing in CSV table format and have next columns:\n",
    " - Chemical - name of chemical\n",
    " - ID - manufacturer and serial number\n",
    " - MW (g/mol) - molecular weight\n",
    " - Stock Solution - concentration of srock solution (if you don't use SS just mark as \"solid\")\n",
    " - Concentration - final concentration\n",
    " - volume - mass or volume of stock solution for the specified solution volume (there may be several \"volume\" columns for different solution volumes)\n",
    "\n",
    "---\n",
    "\n",
    "#### GitHub cheatsheet\n",
    "\n",
    "Main **git** commands that you may needed for work are present below, enjoy. But first you should create fork of Labnote repo on your GitHub account.\n",
    "\n",
    "\n",
    "- Clone `master` from GitHub repo: `git clone https://github.com/wisstock/Labnote.git`\n",
    "- Clone repo for personal use `git clone Labnote Labnote_researcher_name`\n",
    "- Create personal branch and switch to it: `git branch researcher_name`\n",
    "- Create new `git remote` for you cloned repo:\n",
    "```\n",
    "git remote add personal_remote https://github.com/user_name/Labnote.git\n",
    "```\n",
    "\n",
    "&nbsp;\n",
    "\n",
    "- For editing reagents or protocols go to **Labnote** folder and switch to `master` branch: `git checkout master`\n",
    "- For saving changes in Reagents or Protocols folder in `master` branch follow next steps (**Warning: DO NOT use master branch or Labnote repo for personal records, for Reagents and/or Protocols only!**):\n",
    "```\n",
    "git add --all\n",
    "git commit -m \"commit message\"\n",
    "git push origin master\n",
    "```\n",
    "\n",
    "&nbsp;\n",
    "\n",
    "- For editing projects records go to **Labnote_researcher_name** and switch to `researcher_name` branch:\n",
    "```\n",
    "git checkout researcher_name\n",
    "git remote set-url origin https://github.com/user_name/Labnote.git\n",
    "git push -u origin researcher_name\n",
    "\n",
    "```\n",
    "\n",
    "- For saving changes in projects records follow next steps:\n",
    "```\n",
    "git add --all\n",
    "git commit -m \"commit message\"\n",
    "git puch personal_remote researcher_name\n",
    "```\n",
    "- Sync you personal repo **Labnote_researcher_name** with update of Reagents and Protocols from `master` branch:\n",
    "```\n",
    "git merge master\n",
    "```"
   ]
  }
 ],
 "metadata": {
  "kernelspec": {
   "display_name": "Python 3",
   "language": "python",
   "name": "python3"
  },
  "language_info": {
   "codemirror_mode": {
    "name": "ipython",
    "version": 3
   },
   "file_extension": ".py",
   "mimetype": "text/x-python",
   "name": "python",
   "nbconvert_exporter": "python",
   "pygments_lexer": "ipython3",
   "version": "3.7.4"
  }
 },
 "nbformat": 4,
 "nbformat_minor": 4
}
